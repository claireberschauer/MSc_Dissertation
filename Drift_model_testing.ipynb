{
 "cells": [
  {
   "cell_type": "markdown",
   "id": "b623ba17-6397-47cb-aa6f-64de275b065f",
   "metadata": {},
   "source": [
    "# Drift Model Testing"
   ]
  },
  {
   "cell_type": "markdown",
   "id": "520a85ee-ff27-408c-9f22-1bb8cdb91052",
   "metadata": {},
   "source": [
    "__Intended Process:__\n",
    "\n",
    "- STEP 1: get stuff out of a data file\n",
    "\n",
    "- UDD format data --> generate drift times (t1 - t0) then input into the equation to get drift radii (and uncertainties)\n",
    "- use same data and get simulated radii from existing falaise\n",
    "- plot radii versus each other to see how the models compare\n",
    "- is there \"truth data\" for simulated data? (Ask Cheryl) -- see quantitatively how well Betsy's drift model works to estimate radius, get a quantitative result for how well it works compared to existing falaise\n",
    "\n",
    "Next steps:  \n",
    "- use real data as opposed to simulated\n",
    "- quantify impact of implementing more detailed electric field\n",
    "- track fitting?\n",
    "\n",
    "Barriers to progress: \n",
    "- .brio format? Look at how Betsy got her data\n",
    "    - used .root filed (can use Cheryl's code to convert)\n",
    "- which pressure are we using again?"
   ]
  },
  {
   "cell_type": "code",
   "execution_count": 1,
   "id": "f7b9253d-dff6-4f77-9a9e-9396f0cc8081",
   "metadata": {},
   "outputs": [],
   "source": [
    "import uproot\n",
    "import numpy as np\n",
    "import matplotlib.pyplot as plt\n",
    "import pandas as pd\n",
    "import time as tm"
   ]
  },
  {
   "cell_type": "code",
   "execution_count": 2,
   "id": "5fcfd4d8-3c38-40b0-b312-9bcfd1b6632f",
   "metadata": {},
   "outputs": [],
   "source": [
    "data = uproot.open('snemo_run-840_udd.root')"
   ]
  },
  {
   "cell_type": "code",
   "execution_count": 3,
   "id": "8748bdb6-d40e-40e0-8a65-d1171d5f60ce",
   "metadata": {},
   "outputs": [
    {
     "name": "stdout",
     "output_type": "stream",
     "text": [
      "name                 | typename                 | interpretation                \n",
      "---------------------+--------------------------+-------------------------------\n",
      "header.runnumber     | int32_t                  | AsDtype('>i4')\n",
      "header.eventnumber   | int32_t                  | AsDtype('>i4')\n",
      "header.date          | int32_t                  | AsDtype('>i4')\n",
      "header.runtype       | int32_t                  | AsDtype('>i4')\n",
      "header.simulated     | bool                     | AsDtype('bool')\n",
      "header.real          | bool                     | AsDtype('bool')\n",
      "tracker.nohits       | int32_t                  | AsDtype('>i4')\n",
      "tracker.id           | std::vector<int32_t>     | AsJagged(AsDtype('>i4'), he...\n",
      "tracker.module       | std::vector<int32_t>     | AsJagged(AsDtype('>i4'), he...\n",
      "tracker.side         | std::vector<int32_t>     | AsJagged(AsDtype('>i4'), he...\n",
      "tracker.layer        | std::vector<int32_t>     | AsJagged(AsDtype('>i4'), he...\n",
      "tracker.column       | std::vector<int32_t>     | AsJagged(AsDtype('>i4'), he...\n",
      "tracker.x            | std::vector<double>      | AsJagged(AsDtype('>f8'), he...\n",
      "tracker.y            | std::vector<double>      | AsJagged(AsDtype('>f8'), he...\n",
      "tracker.z            | std::vector<double>      | AsJagged(AsDtype('>f8'), he...\n",
      "tracker.sigmaz       | std::vector<double>      | AsJagged(AsDtype('>f8'), he...\n",
      "tracker.r            | std::vector<double>      | AsJagged(AsDtype('>f8'), he...\n",
      "tracker.sigmar       | std::vector<double>      | AsJagged(AsDtype('>f8'), he...\n",
      "tracker.delayedtime  | std::vector<double>      | AsJagged(AsDtype('>f8'), he...\n",
      "tracker.delayedti... | std::vector<double>      | AsJagged(AsDtype('>f8'), he...\n",
      "tracker.isdelayed    | std::vector<bool>        | AsJagged(AsDtype('bool'), h...\n",
      "tracker.isnoisy      | std::vector<bool>        | AsJagged(AsDtype('bool'), h...\n",
      "tracker.isbottomc... | std::vector<bool>        | AsJagged(AsDtype('bool'), h...\n",
      "tracker.istopcath... | std::vector<bool>        | AsJagged(AsDtype('bool'), h...\n",
      "tracker.truehitid    | std::vector<int32_t>     | AsJagged(AsDtype('>i4'), he...\n",
      "calo.nohits          | int32_t                  | AsDtype('>i4')\n",
      "calo.id              | std::vector<int32_t>     | AsJagged(AsDtype('>i4'), he...\n",
      "calo.module          | std::vector<int32_t>     | AsJagged(AsDtype('>i4'), he...\n",
      "calo.side            | std::vector<int32_t>     | AsJagged(AsDtype('>i4'), he...\n",
      "calo.column          | std::vector<int32_t>     | AsJagged(AsDtype('>i4'), he...\n",
      "calo.row             | std::vector<int32_t>     | AsJagged(AsDtype('>i4'), he...\n",
      "calo.wall            | std::vector<int32_t>     | AsJagged(AsDtype('>i4'), he...\n",
      "calo.time            | std::vector<double>      | AsJagged(AsDtype('>f8'), he...\n",
      "calo.sigmatime       | std::vector<double>      | AsJagged(AsDtype('>f8'), he...\n",
      "calo.energy          | std::vector<double>      | AsJagged(AsDtype('>f8'), he...\n",
      "calo.sigmaenergy     | std::vector<double>      | AsJagged(AsDtype('>f8'), he...\n",
      "calo.type            | std::vector<int32_t>     | AsJagged(AsDtype('>i4'), he...\n",
      "pcdtracker.nohits    | int32_t                  | AsDtype('>i4')\n",
      "pcdtracker.id        | std::vector<int32_t>     | AsJagged(AsDtype('>i4'), he...\n",
      "pcdtracker.module    | std::vector<int32_t>     | AsJagged(AsDtype('>i4'), he...\n",
      "pcdtracker.side      | std::vector<int32_t>     | AsJagged(AsDtype('>i4'), he...\n",
      "pcdtracker.layer     | std::vector<int32_t>     | AsJagged(AsDtype('>i4'), he...\n",
      "pcdtracker.column    | std::vector<int32_t>     | AsJagged(AsDtype('>i4'), he...\n",
      "pcdtracker.refere... | std::vector<double>      | AsJagged(AsDtype('>f8'), he...\n",
      "pcdtracker.anodic... | std::vector<double>      | AsJagged(AsDtype('>f8'), he...\n",
      "pcdtracker.sigmaa... | std::vector<double>      | AsJagged(AsDtype('>f8'), he...\n",
      "pcdtracker.bottom... | std::vector<double>      | AsJagged(AsDtype('>f8'), he...\n",
      "pcdtracker.sigmab... | std::vector<double>      | AsJagged(AsDtype('>f8'), he...\n",
      "pcdtracker.topcat... | std::vector<double>      | AsJagged(AsDtype('>f8'), he...\n",
      "pcdtracker.sigmat... | std::vector<double>      | AsJagged(AsDtype('>f8'), he...\n",
      "pcdtracker.isdelayed | std::vector<bool>        | AsJagged(AsDtype('bool'), h...\n",
      "pcdcalo.nohits       | int32_t                  | AsDtype('>i4')\n",
      "pcdcalo.id           | std::vector<int32_t>     | AsJagged(AsDtype('>i4'), he...\n",
      "pcdcalo.type         | std::vector<int32_t>     | AsJagged(AsDtype('>i4'), he...\n",
      "pcdcalo.module       | std::vector<int32_t>     | AsJagged(AsDtype('>i4'), he...\n",
      "pcdcalo.side         | std::vector<int32_t>     | AsJagged(AsDtype('>i4'), he...\n",
      "pcdcalo.column       | std::vector<int32_t>     | AsJagged(AsDtype('>i4'), he...\n",
      "pcdcalo.row          | std::vector<int32_t>     | AsJagged(AsDtype('>i4'), he...\n",
      "pcdcalo.wall         | std::vector<int32_t>     | AsJagged(AsDtype('>i4'), he...\n",
      "pcdcalo.amplitude    | std::vector<double>      | AsJagged(AsDtype('>f8'), he...\n",
      "pcdcalo.sigma_amp... | std::vector<double>      | AsJagged(AsDtype('>f8'), he...\n",
      "pcdcalo.charge       | std::vector<double>      | AsJagged(AsDtype('>f8'), he...\n",
      "pcdcalo.sigma_charge | std::vector<double>      | AsJagged(AsDtype('>f8'), he...\n",
      "pcdcalo.time         | std::vector<double>      | AsJagged(AsDtype('>f8'), he...\n",
      "pcdcalo.sigma_time   | std::vector<double>      | AsJagged(AsDtype('>f8'), he...\n",
      "pcdcalo.baseline     | std::vector<double>      | AsJagged(AsDtype('>f8'), he...\n",
      "pcdcalo.sigma_bas... | std::vector<double>      | AsJagged(AsDtype('>f8'), he...\n",
      "pcdcalo.rising_time  | std::vector<double>      | AsJagged(AsDtype('>f8'), he...\n",
      "pcdcalo.sigma_ris... | std::vector<double>      | AsJagged(AsDtype('>f8'), he...\n",
      "pcdcalo.falling_time | std::vector<double>      | AsJagged(AsDtype('>f8'), he...\n",
      "pcdcalo.sigma_fal... | std::vector<double>      | AsJagged(AsDtype('>f8'), he...\n",
      "pcdcalo.time_width   | std::vector<double>      | AsJagged(AsDtype('>f8'), he...\n",
      "pcdcalo.sigma_tim... | std::vector<double>      | AsJagged(AsDtype('>f8'), he...\n",
      "digitracker.nohits   | int32_t                  | AsDtype('>i4')\n",
      "digitracker.id       | std::vector<int32_t>     | AsJagged(AsDtype('>i4'), he...\n",
      "digitracker.module   | std::vector<int32_t>     | AsJagged(AsDtype('>i4'), he...\n",
      "digitracker.side     | std::vector<int32_t>     | AsJagged(AsDtype('>i4'), he...\n",
      "digitracker.layer    | std::vector<int32_t>     | AsJagged(AsDtype('>i4'), he...\n",
      "digitracker.column   | std::vector<int32_t>     | AsJagged(AsDtype('>i4'), he...\n",
      "digitracker.anode... | std::vector<std::vect... | AsObjects(AsVector(True, As...\n",
      "digitracker.anode... | std::vector<std::vect... | AsObjects(AsVector(True, As...\n",
      "digitracker.anode... | std::vector<std::vect... | AsObjects(AsVector(True, As...\n",
      "digitracker.anode... | std::vector<std::vect... | AsObjects(AsVector(True, As...\n",
      "digitracker.anode... | std::vector<std::vect... | AsObjects(AsVector(True, As...\n",
      "digitracker.botto... | std::vector<std::vect... | AsObjects(AsVector(True, As...\n",
      "digitracker.topca... | std::vector<std::vect... | AsObjects(AsVector(True, As...\n",
      "digicalo.nohits      | int32_t                  | AsDtype('>i4')\n",
      "digicalo.id          | std::vector<int32_t>     | AsJagged(AsDtype('>i4'), he...\n",
      "digicalo.type        | std::vector<int32_t>     | AsJagged(AsDtype('>i4'), he...\n",
      "digicalo.module      | std::vector<int32_t>     | AsJagged(AsDtype('>i4'), he...\n",
      "digicalo.side        | std::vector<int32_t>     | AsJagged(AsDtype('>i4'), he...\n",
      "digicalo.column      | std::vector<int32_t>     | AsJagged(AsDtype('>i4'), he...\n",
      "digicalo.row         | std::vector<int32_t>     | AsJagged(AsDtype('>i4'), he...\n",
      "digicalo.wall        | std::vector<int32_t>     | AsJagged(AsDtype('>i4'), he...\n",
      "digicalo.timestamp   | std::vector<int64_t>     | AsJagged(AsDtype('>i8'), he...\n",
      "digicalo.lowthres... | std::vector<bool>        | AsJagged(AsDtype('bool'), h...\n",
      "digicalo.highthre... | std::vector<bool>        | AsJagged(AsDtype('bool'), h...\n",
      "digicalo.fcr         | std::vector<uint16_t>    | AsJagged(AsDtype('>u2'), he...\n",
      "digicalo.lttrigge... | std::vector<uint16_t>    | AsJagged(AsDtype('>u2'), he...\n",
      "digicalo.lttimeco... | std::vector<uint32_t>    | AsJagged(AsDtype('>u4'), he...\n",
      "digicalo.waveform    | std::vector<std::vect... | AsObjects(AsVector(True, As...\n",
      "digicalo.baseline    | std::vector<int16_t>     | AsJagged(AsDtype('>i2'), he...\n",
      "digicalo.peakampl... | std::vector<int16_t>     | AsJagged(AsDtype('>i2'), he...\n",
      "digicalo.peakcell    | std::vector<int16_t>     | AsJagged(AsDtype('>i2'), he...\n",
      "digicalo.charge      | std::vector<int32_t>     | AsJagged(AsDtype('>i4'), he...\n",
      "digicalo.rising_cell | std::vector<int32_t>     | AsJagged(AsDtype('>i4'), he...\n",
      "digicalo.falling_... | std::vector<int32_t>     | AsJagged(AsDtype('>i4'), he...\n",
      "truetracker.nohits   | int32_t                  | AsDtype('>i4')\n",
      "truetracker.id       | std::vector<int32_t>     | AsJagged(AsDtype('>i4'), he...\n",
      "truetracker.module   | std::vector<int32_t>     | AsJagged(AsDtype('>i4'), he...\n",
      "truetracker.side     | std::vector<int32_t>     | AsJagged(AsDtype('>i4'), he...\n",
      "truetracker.layer    | std::vector<int32_t>     | AsJagged(AsDtype('>i4'), he...\n",
      "truetracker.column   | std::vector<int32_t>     | AsJagged(AsDtype('>i4'), he...\n",
      "truetracker.time     | std::vector<double>      | AsJagged(AsDtype('>f8'), he...\n",
      "truetracker.xstart   | std::vector<double>      | AsJagged(AsDtype('>f8'), he...\n",
      "truetracker.ystart   | std::vector<double>      | AsJagged(AsDtype('>f8'), he...\n",
      "truetracker.zstart   | std::vector<double>      | AsJagged(AsDtype('>f8'), he...\n",
      "truetracker.xstop    | std::vector<double>      | AsJagged(AsDtype('>f8'), he...\n",
      "truetracker.ystop    | std::vector<double>      | AsJagged(AsDtype('>f8'), he...\n",
      "truetracker.zstop    | std::vector<double>      | AsJagged(AsDtype('>f8'), he...\n",
      "truetracker.trackid  | std::vector<int32_t>     | AsJagged(AsDtype('>i4'), he...\n",
      "truetracker.paren... | std::vector<int32_t>     | AsJagged(AsDtype('>i4'), he...\n",
      "truecalo.nohits      | int32_t                  | AsDtype('>i4')\n",
      "truecalo.id          | std::vector<int32_t>     | AsJagged(AsDtype('>i4'), he...\n",
      "truecalo.type        | std::vector<int32_t>     | AsJagged(AsDtype('>i4'), he...\n",
      "truecalo.x           | std::vector<double>      | AsJagged(AsDtype('>f8'), he...\n",
      "truecalo.y           | std::vector<double>      | AsJagged(AsDtype('>f8'), he...\n",
      "truecalo.z           | std::vector<double>      | AsJagged(AsDtype('>f8'), he...\n",
      "truecalo.time        | std::vector<double>      | AsJagged(AsDtype('>f8'), he...\n",
      "truecalo.energy      | std::vector<double>      | AsJagged(AsDtype('>f8'), he...\n",
      "truecalo.module      | std::vector<int32_t>     | AsJagged(AsDtype('>i4'), he...\n",
      "truecalo.side        | std::vector<int32_t>     | AsJagged(AsDtype('>i4'), he...\n",
      "truecalo.wall        | std::vector<int32_t>     | AsJagged(AsDtype('>i4'), he...\n",
      "truecalo.column      | std::vector<int32_t>     | AsJagged(AsDtype('>i4'), he...\n",
      "truecalo.row         | std::vector<int32_t>     | AsJagged(AsDtype('>i4'), he...\n",
      "truevertex.x         | double                   | AsDtype('>f8')\n",
      "truevertex.y         | double                   | AsDtype('>f8')\n",
      "truevertex.z         | double                   | AsDtype('>f8')\n",
      "truevertex.time      | double                   | AsDtype('>f8')\n",
      "trueparticle.nopa... | int32_t                  | AsDtype('>i4')\n",
      "trueparticle.id      | std::vector<int32_t>     | AsJagged(AsDtype('>i4'), he...\n",
      "trueparticle.type    | std::vector<int32_t>     | AsJagged(AsDtype('>i4'), he...\n",
      "trueparticle.px      | std::vector<double>      | AsJagged(AsDtype('>f8'), he...\n",
      "trueparticle.py      | std::vector<double>      | AsJagged(AsDtype('>f8'), he...\n",
      "trueparticle.pz      | std::vector<double>      | AsJagged(AsDtype('>f8'), he...\n",
      "trueparticle.time    | std::vector<double>      | AsJagged(AsDtype('>f8'), he...\n",
      "trueparticle.kine... | std::vector<double>      | AsJagged(AsDtype('>f8'), he...\n"
     ]
    }
   ],
   "source": [
    "data['SimData;1'].show()"
   ]
  },
  {
   "cell_type": "code",
   "execution_count": 67,
   "id": "4466e2ce-d758-40b2-81f8-6f7fa7b31d3c",
   "metadata": {},
   "outputs": [
    {
     "data": {
      "text/plain": [
       "11"
      ]
     },
     "execution_count": 67,
     "metadata": {},
     "output_type": "execute_result"
    }
   ],
   "source": [
    "trigger_times = data['SimData;1']['digitracker.nohits'].array(library='np')[0]\n",
    "trigger_times"
   ]
  },
  {
   "cell_type": "code",
   "execution_count": 25,
   "id": "77283684-3f79-4e0b-927a-df2700ab5b8b",
   "metadata": {},
   "outputs": [
    {
     "data": {
      "text/plain": [
       "<STLVector [[847289447], [847289127], ..., [847285664]] at 0x016e1dfd1a88>"
      ]
     },
     "execution_count": 25,
     "metadata": {},
     "output_type": "execute_result"
    }
   ],
   "source": [
    "anode_times = data['SimData;1']['digitracker.anodetimestampR0'].array(library='np')[0]\n",
    "anode_times_2 = data['SimData;1']['digitracker.anodetimestampR1'].array(library='np')[0]\n",
    "anode_times"
   ]
  },
  {
   "cell_type": "code",
   "execution_count": 24,
   "id": "e7106a7b-11da-4e67-af2f-cb83d348881b",
   "metadata": {},
   "outputs": [
    {
     "data": {
      "text/plain": [
       "array([-0.08564935])"
      ]
     },
     "execution_count": 24,
     "metadata": {},
     "output_type": "execute_result"
    }
   ],
   "source": [
    "(anode_times[0] - trigger_times[0])*12.9**(-9)"
   ]
  },
  {
   "cell_type": "code",
   "execution_count": 58,
   "id": "d476e8ef-ac58-4664-bacd-848d38b30694",
   "metadata": {},
   "outputs": [
    {
     "data": {
      "text/plain": [
       "-0.24705509166233242"
      ]
     },
     "execution_count": 58,
     "metadata": {},
     "output_type": "execute_result"
    }
   ],
   "source": [
    "np.array(anode_times)[0].item()*12.9**(-9)*10**(6) - np.array(anode_times_2)[0].item()*12.9**(-9)*10**6"
   ]
  },
  {
   "cell_type": "code",
   "execution_count": 31,
   "id": "1f24423f-77b9-41b8-8465-0e5551591da6",
   "metadata": {},
   "outputs": [
    {
     "data": {
      "text/plain": [
       "array([-0.24705509])"
      ]
     },
     "execution_count": 31,
     "metadata": {},
     "output_type": "execute_result"
    }
   ],
   "source": [
    "(np.array(anode_times)[0]*12.9**(-9) - np.array(anode_times_2)[0]*12.9**(-9))*10**6"
   ]
  },
  {
   "cell_type": "code",
   "execution_count": 4,
   "id": "1470c101-5690-4581-81a5-78dd33c2eb5a",
   "metadata": {},
   "outputs": [],
   "source": [
    "id_branch = data['SimData;1']['digitracker.id'].array(library='np')\n",
    "num_events = np.arange(len(id_branch))\n",
    "test_events = np.arange(100)"
   ]
  },
  {
   "cell_type": "code",
   "execution_count": null,
   "id": "273a19d1-d1ae-4bbb-a95d-763e9ed1a073",
   "metadata": {},
   "outputs": [
    {
     "name": "stdout",
     "output_type": "stream",
     "text": [
      "1 of 100 complete\n",
      "2 of 100 complete\n",
      "3 of 100 complete\n",
      "4 of 100 complete\n",
      "5 of 100 complete\n",
      "6 of 100 complete\n"
     ]
    }
   ],
   "source": [
    "start = tm.time()\n",
    "exceptions = []\n",
    "verbose = True\n",
    "events = pd.DataFrame(columns=['Event', 'ID', 'Side', 'Layer', 'Column', 'R0', 'R1'])\n",
    "\n",
    "for n in test_events:\n",
    "    id_list = np.array(id_branch[n], dtype='int')\n",
    "    num_hits = np.arange(len(id_list))\n",
    "    \n",
    "    for k in num_hits: \n",
    "        try:\n",
    "            side = np.array(data['SimData;1']['digitracker.side'].array(library='np')[n], dtype='bool')[k].item()\n",
    "            layer = np.array(data['SimData;1']['digitracker.layer'].array(library='np')[n], dtype='int')[k].item()\n",
    "            column = np.array(data['SimData;1']['digitracker.column'].array(library='np')[n], dtype='int')[k].item()\n",
    "            R0 = np.array(data['SimData;1']['digitracker.anodetimestampR0'].array(library='np')[n], dtype='float')[k].item()\n",
    "            R1 = np.array(data['SimData;1']['digitracker.anodetimestampR1'].array(library='np')[n], dtype='float')[k].item()\n",
    "            id_var = id_list[k].item()\n",
    "\n",
    "            event = pd.DataFrame(data={'Event':[n], 'ID':[id_var], 'Side':[side], 'Layer':[layer], 'Column':[column], 'R0':[R0], 'R1':[R1]})\n",
    "\n",
    "            events = pd.concat([events, event], axis=0, ignore_index=True)\n",
    "            \n",
    "        except:\n",
    "            exceptions.append((n, k))\n",
    "    if verbose is True:\n",
    "        print(n + 1, 'of', len(test_events), 'complete')\n",
    "\n",
    "end = tm.time()\n",
    "print('Runtime:', (end - start)/60, 'minutes')"
   ]
  },
  {
   "cell_type": "code",
   "execution_count": 5,
   "id": "6fc1cf64-92f3-4a26-8fce-58078c962ab5",
   "metadata": {},
   "outputs": [
    {
     "ename": "NameError",
     "evalue": "name 'events' is not defined",
     "output_type": "error",
     "traceback": [
      "\u001b[1;31m---------------------------------------------------------------------------\u001b[0m",
      "\u001b[1;31mNameError\u001b[0m                                 Traceback (most recent call last)",
      "\u001b[1;32m~\\AppData\\Local\\Temp\\ipykernel_20344\\2427353834.py\u001b[0m in \u001b[0;36m<module>\u001b[1;34m\u001b[0m\n\u001b[1;32m----> 1\u001b[1;33m \u001b[0mevents\u001b[0m\u001b[1;33m.\u001b[0m\u001b[0mhead\u001b[0m\u001b[1;33m(\u001b[0m\u001b[1;33m)\u001b[0m\u001b[1;33m\u001b[0m\u001b[1;33m\u001b[0m\u001b[0m\n\u001b[0m",
      "\u001b[1;31mNameError\u001b[0m: name 'events' is not defined"
     ]
    }
   ],
   "source": [
    "events.head()"
   ]
  },
  {
   "cell_type": "code",
   "execution_count": 6,
   "id": "84dbb910-6f67-4344-820f-607276e85b94",
   "metadata": {},
   "outputs": [
    {
     "name": "stdout",
     "output_type": "stream",
     "text": [
      "1 of 100 complete\n",
      "2 of 100 complete\n",
      "3 of 100 complete\n",
      "4 of 100 complete\n",
      "5 of 100 complete\n",
      "6 of 100 complete\n",
      "7 of 100 complete\n",
      "8 of 100 complete\n",
      "9 of 100 complete\n",
      "10 of 100 complete\n",
      "11 of 100 complete\n",
      "12 of 100 complete\n",
      "13 of 100 complete\n",
      "14 of 100 complete\n",
      "15 of 100 complete\n",
      "16 of 100 complete\n",
      "17 of 100 complete\n",
      "18 of 100 complete\n",
      "19 of 100 complete\n",
      "20 of 100 complete\n",
      "21 of 100 complete\n",
      "22 of 100 complete\n",
      "23 of 100 complete\n",
      "24 of 100 complete\n",
      "25 of 100 complete\n",
      "26 of 100 complete\n",
      "27 of 100 complete\n",
      "28 of 100 complete\n",
      "29 of 100 complete\n",
      "30 of 100 complete\n",
      "31 of 100 complete\n",
      "32 of 100 complete\n",
      "33 of 100 complete\n",
      "34 of 100 complete\n",
      "35 of 100 complete\n",
      "36 of 100 complete\n",
      "37 of 100 complete\n",
      "38 of 100 complete\n",
      "39 of 100 complete\n",
      "40 of 100 complete\n",
      "41 of 100 complete\n",
      "42 of 100 complete\n",
      "43 of 100 complete\n",
      "44 of 100 complete\n",
      "45 of 100 complete\n",
      "46 of 100 complete\n",
      "47 of 100 complete\n",
      "48 of 100 complete\n",
      "49 of 100 complete\n",
      "50 of 100 complete\n",
      "51 of 100 complete\n",
      "52 of 100 complete\n",
      "53 of 100 complete\n",
      "54 of 100 complete\n",
      "55 of 100 complete\n",
      "56 of 100 complete\n",
      "57 of 100 complete\n",
      "58 of 100 complete\n",
      "59 of 100 complete\n",
      "60 of 100 complete\n",
      "61 of 100 complete\n",
      "62 of 100 complete\n",
      "63 of 100 complete\n",
      "64 of 100 complete\n",
      "65 of 100 complete\n",
      "66 of 100 complete\n",
      "67 of 100 complete\n",
      "68 of 100 complete\n",
      "69 of 100 complete\n",
      "70 of 100 complete\n",
      "71 of 100 complete\n",
      "72 of 100 complete\n",
      "73 of 100 complete\n",
      "74 of 100 complete\n",
      "75 of 100 complete\n",
      "76 of 100 complete\n",
      "77 of 100 complete\n",
      "78 of 100 complete\n",
      "79 of 100 complete\n",
      "80 of 100 complete\n",
      "81 of 100 complete\n",
      "82 of 100 complete\n",
      "83 of 100 complete\n",
      "84 of 100 complete\n",
      "85 of 100 complete\n",
      "86 of 100 complete\n",
      "87 of 100 complete\n",
      "88 of 100 complete\n",
      "89 of 100 complete\n",
      "90 of 100 complete\n",
      "91 of 100 complete\n",
      "92 of 100 complete\n",
      "93 of 100 complete\n",
      "94 of 100 complete\n",
      "95 of 100 complete\n",
      "96 of 100 complete\n",
      "97 of 100 complete\n",
      "98 of 100 complete\n",
      "99 of 100 complete\n",
      "100 of 100 complete\n",
      "Runtime: 63.524857159455614 minutes\n"
     ]
    }
   ],
   "source": [
    "start = tm.time()\n",
    "exceptions = []\n",
    "verbose = True\n",
    "events = pd.DataFrame(columns=['Event', 'ID', 'Side', 'Layer', 'Column', 'R0', 'R1'])\n",
    "event_nums = []\n",
    "ids = []\n",
    "sides = []\n",
    "layers = []\n",
    "columns = []\n",
    "R0s = []\n",
    "R1s = []\n",
    "\n",
    "\n",
    "for n in test_events:\n",
    "    id_list = np.array(id_branch[n], dtype='int')\n",
    "    num_hits = np.arange(len(id_list))\n",
    "    \n",
    "    for k in num_hits: \n",
    "        try:\n",
    "            sides.append(np.array(data['SimData;1']['digitracker.side'].array(library='np')[n], dtype='bool')[k].item())\n",
    "            layers.append(np.array(data['SimData;1']['digitracker.layer'].array(library='np')[n], dtype='int')[k].item())\n",
    "            columns.append(np.array(data['SimData;1']['digitracker.column'].array(library='np')[n], dtype='int')[k].item())\n",
    "            R0s.append(np.array(data['SimData;1']['digitracker.anodetimestampR0'].array(library='np')[n], dtype='float')[k].item())\n",
    "            R1s.append(np.array(data['SimData;1']['digitracker.anodetimestampR1'].array(library='np')[n], dtype='float')[k].item())\n",
    "            ids.append(id_list[k].item())\n",
    "            event_nums.append(n)            \n",
    "        except:\n",
    "            exceptions.append((n, k))\n",
    "    if verbose is True:\n",
    "        print(n + 1, 'of', len(test_events), 'complete')\n",
    "\n",
    "end = tm.time()\n",
    "print('Runtime:', (end - start)/60, 'minutes')"
   ]
  },
  {
   "cell_type": "code",
   "execution_count": 7,
   "id": "a2a9f439-f822-4a17-98c2-c01ad9e439c0",
   "metadata": {},
   "outputs": [
    {
     "data": {
      "text/html": [
       "<div>\n",
       "<style scoped>\n",
       "    .dataframe tbody tr th:only-of-type {\n",
       "        vertical-align: middle;\n",
       "    }\n",
       "\n",
       "    .dataframe tbody tr th {\n",
       "        vertical-align: top;\n",
       "    }\n",
       "\n",
       "    .dataframe thead th {\n",
       "        text-align: right;\n",
       "    }\n",
       "</style>\n",
       "<table border=\"1\" class=\"dataframe\">\n",
       "  <thead>\n",
       "    <tr style=\"text-align: right;\">\n",
       "      <th></th>\n",
       "      <th>Event</th>\n",
       "      <th>ID</th>\n",
       "      <th>Side</th>\n",
       "      <th>Layer</th>\n",
       "      <th>Column</th>\n",
       "      <th>R0</th>\n",
       "      <th>R1</th>\n",
       "    </tr>\n",
       "  </thead>\n",
       "  <tbody>\n",
       "    <tr>\n",
       "      <th>0</th>\n",
       "      <td>0</td>\n",
       "      <td>0</td>\n",
       "      <td>True</td>\n",
       "      <td>0</td>\n",
       "      <td>7</td>\n",
       "      <td>847289447.0</td>\n",
       "      <td>847291891.0</td>\n",
       "    </tr>\n",
       "    <tr>\n",
       "      <th>1</th>\n",
       "      <td>0</td>\n",
       "      <td>1</td>\n",
       "      <td>True</td>\n",
       "      <td>8</td>\n",
       "      <td>0</td>\n",
       "      <td>847289127.0</td>\n",
       "      <td>0.0</td>\n",
       "    </tr>\n",
       "    <tr>\n",
       "      <th>2</th>\n",
       "      <td>0</td>\n",
       "      <td>2</td>\n",
       "      <td>True</td>\n",
       "      <td>5</td>\n",
       "      <td>3</td>\n",
       "      <td>847289197.0</td>\n",
       "      <td>847291612.0</td>\n",
       "    </tr>\n",
       "    <tr>\n",
       "      <th>3</th>\n",
       "      <td>0</td>\n",
       "      <td>3</td>\n",
       "      <td>True</td>\n",
       "      <td>6</td>\n",
       "      <td>2</td>\n",
       "      <td>847289122.0</td>\n",
       "      <td>847291266.0</td>\n",
       "    </tr>\n",
       "    <tr>\n",
       "      <th>4</th>\n",
       "      <td>0</td>\n",
       "      <td>4</td>\n",
       "      <td>True</td>\n",
       "      <td>1</td>\n",
       "      <td>7</td>\n",
       "      <td>847289281.0</td>\n",
       "      <td>847291931.0</td>\n",
       "    </tr>\n",
       "  </tbody>\n",
       "</table>\n",
       "</div>"
      ],
      "text/plain": [
       "   Event  ID  Side  Layer  Column           R0           R1\n",
       "0      0   0  True      0       7  847289447.0  847291891.0\n",
       "1      0   1  True      8       0  847289127.0          0.0\n",
       "2      0   2  True      5       3  847289197.0  847291612.0\n",
       "3      0   3  True      6       2  847289122.0  847291266.0\n",
       "4      0   4  True      1       7  847289281.0  847291931.0"
      ]
     },
     "execution_count": 7,
     "metadata": {},
     "output_type": "execute_result"
    }
   ],
   "source": [
    "event = pd.DataFrame(data={'Event':event_nums, 'ID':ids, 'Side':sides, 'Layer':layers, 'Column':columns, 'R0':R0s, 'R1':R1s})\n",
    "\n",
    "event.head()"
   ]
  },
  {
   "cell_type": "raw",
   "id": "bab2352c-ac38-4fa2-ab97-248ea2f83e00",
   "metadata": {},
   "source": [
    "ti = tm.time()\n",
    "maxes = []\n",
    "exceptions = []\n",
    "count = 0\n",
    "\n",
    "for n in np.arange(len(t0)):\n",
    "    times = []\n",
    "    try:\n",
    "        test_vector_0 = np.array(data['SimData;1']['digitracker.anodetimestampR0'].array(library='np')[n], dtype='float64')\n",
    "        test_vector_1 = np.array(data['SimData;1']['digitracker.anodetimestampR1'].array(library='np')[n], dtype='float64')\n",
    "\n",
    "        for i in np.arange(len(test_vector_0)):\n",
    "            time = test_vector_1[i] - test_vector_0[i]\n",
    "            if time > 0:\n",
    "                if time < 10000:\n",
    "                    times.append(time)\n",
    "        maxes.append(max(times))\n",
    "        \n",
    "    except: \n",
    "        exceptions.append(count)\n",
    "    \n",
    "    count += 1\n",
    "    \n",
    "        \n",
    "print(max(maxes))\n",
    "tf = tm.time()\n",
    "print('Runtime:', tf - ti)"
   ]
  },
  {
   "cell_type": "code",
   "execution_count": 8,
   "id": "f1aea9e4-af5e-495b-aea2-e0b1a48fa5a7",
   "metadata": {},
   "outputs": [],
   "source": [
    "# dictionary for a, b values\n",
    "# each cell type has 9 values -- 3 sets of a, b pairs corresponding to 3 pressures (850, 880, 910) and the tx value for \n",
    "# each pressure in the third entry of each tuple\n",
    "\n",
    "# 'entry' : [(a_850, b_850, tx_850), (a_880, b_880, tx_880), (a_910, b_910, tx_910)]\n",
    "ab_vals = {'center_in': [(8.28, -0.9, 2.95), (8.53, -0.9, 2.97), (8.77, -0.9, 3.07)],\n",
    "           'center_out': [(3.86, -1.99, 2.95), (4.19, -1.93, 2.97), (4.55, -1.9, 3.06)]\n",
    "          }"
   ]
  },
  {
   "cell_type": "code",
   "execution_count": 9,
   "id": "20b3826d-5a5d-4e51-b8fc-148787ee4913",
   "metadata": {},
   "outputs": [],
   "source": [
    "# r(t) = (t/a)**(1/(1-b))\n",
    "\n",
    "def define_io(t_drift, tx):\n",
    "    \"\"\" Defines whether the particle is in the inner or outer section of the cell.\n",
    "    param t_drift: The measured drift time (t1 - t0)\n",
    "    type t_drift: float\n",
    "    param tx: The reference value of t\n",
    "    type t_drift: float\n",
    "    \"\"\"\n",
    "    if t_drift > tx:\n",
    "        inner = False\n",
    "    else:\n",
    "        inner = True\n",
    "    return inner\n",
    "\n",
    "def find_params(inner, region, pressure):\n",
    "    \"\"\" Consults the ab_vals dictionary to determine a and b parameter values.\n",
    "    param inner: Defines where the particle is within the cell\n",
    "    type inner: bool\n",
    "    param region: Defines the cell region as 'center', 'edge', or 'corner'\n",
    "    type region: str\n",
    "    param pressure: Defines the pressure within the tracker (850, 880, or 910)\n",
    "    type pressure: float\n",
    "    \"\"\"\n",
    "    cell_type = region\n",
    "    \n",
    "    if inner is True: \n",
    "        cell_type.append('_in')\n",
    "    else:\n",
    "        cell_type.append('_out')\n",
    "        \n",
    "    if pressure == 850:\n",
    "        n = 0\n",
    "    if pressure == 880:\n",
    "        n = 1\n",
    "    if pressure == 910:\n",
    "        n = 2 \n",
    "        \n",
    "    params = ab_vals(cell_type[n])\n",
    "    a = params[0]\n",
    "    b = params[1]\n",
    "    tx = params[2]\n",
    "    \n",
    "    return params\n",
    "\n",
    "# since defining the above function, can remove cell_type and pressure from calc_radius and just reference find_params instead\n",
    "\n",
    "def calc_radius(t_drift, cell_type='center_in', pressure=880):\n",
    "    \"\"\" Calculated the radius of the particle based on drift time and cell conditions.\n",
    "    param t_drift: The measured drift time (t1 - t0)\n",
    "    type t_drift: float\n",
    "    param cell_type: indicates what type of cell the particle is in, references an entry in the ab_vals dictionary\n",
    "    type cell_type: str, kwarg\n",
    "    param pressure: indicates the pressure in the tracking chamber, determines which tuple in the cell type dictionary entry should be used \n",
    "                    to define a and b\n",
    "    type pressure: float, kwarg\n",
    "    \"\"\"\n",
    "    if pressure == 850:\n",
    "        n = 0\n",
    "    if pressure == 880:\n",
    "        n = 1\n",
    "    if pressure == 910:\n",
    "        n = 2\n",
    "    \n",
    "    params = ab_vals[cell_type][n]\n",
    "    a = params[0]\n",
    "    b = params[1]\n",
    "    \n",
    "    rad = (t_drift / a)**(1 / (1 + 0.9))\n",
    "    return rad\n",
    "\n",
    "def calc_uncertainty():\n",
    "    pass"
   ]
  },
  {
   "cell_type": "code",
   "execution_count": 66,
   "id": "4c0263f7-7abc-4662-9ed2-b08da6833e3f",
   "metadata": {},
   "outputs": [
    {
     "data": {
      "text/plain": [
       "0           2444.0\n",
       "1     -847289127.0\n",
       "2           2415.0\n",
       "3           2144.0\n",
       "4           2650.0\n",
       "          ...     \n",
       "118         1099.0\n",
       "119          879.0\n",
       "120   -854014964.0\n",
       "121         1452.0\n",
       "122         1285.0\n",
       "Length: 123, dtype: float64"
      ]
     },
     "execution_count": 66,
     "metadata": {},
     "output_type": "execute_result"
    }
   ],
   "source": [
    "event['R1'] - event['R0']"
   ]
  },
  {
   "cell_type": "code",
   "execution_count": 10,
   "id": "245f8f09-b03e-4489-8274-726340eb8566",
   "metadata": {},
   "outputs": [],
   "source": [
    "dts = (event['R1'] - event['R0'])/1000\n",
    "Drift_time = pd.Series(data=dts, name='Drift_time')\n",
    "\n",
    "events_df = pd.concat([event, Drift_time], axis=1)"
   ]
  },
  {
   "cell_type": "code",
   "execution_count": 11,
   "id": "2c293251-0552-4b75-834e-cdae4463cbb4",
   "metadata": {},
   "outputs": [
    {
     "data": {
      "text/html": [
       "<div>\n",
       "<style scoped>\n",
       "    .dataframe tbody tr th:only-of-type {\n",
       "        vertical-align: middle;\n",
       "    }\n",
       "\n",
       "    .dataframe tbody tr th {\n",
       "        vertical-align: top;\n",
       "    }\n",
       "\n",
       "    .dataframe thead th {\n",
       "        text-align: right;\n",
       "    }\n",
       "</style>\n",
       "<table border=\"1\" class=\"dataframe\">\n",
       "  <thead>\n",
       "    <tr style=\"text-align: right;\">\n",
       "      <th></th>\n",
       "      <th>Event</th>\n",
       "      <th>ID</th>\n",
       "      <th>Side</th>\n",
       "      <th>Layer</th>\n",
       "      <th>Column</th>\n",
       "      <th>R0</th>\n",
       "      <th>R1</th>\n",
       "      <th>Drift_time</th>\n",
       "    </tr>\n",
       "  </thead>\n",
       "  <tbody>\n",
       "    <tr>\n",
       "      <th>0</th>\n",
       "      <td>0</td>\n",
       "      <td>0</td>\n",
       "      <td>True</td>\n",
       "      <td>0</td>\n",
       "      <td>7</td>\n",
       "      <td>847289447.0</td>\n",
       "      <td>847291891.0</td>\n",
       "      <td>2.444</td>\n",
       "    </tr>\n",
       "    <tr>\n",
       "      <th>1</th>\n",
       "      <td>0</td>\n",
       "      <td>1</td>\n",
       "      <td>True</td>\n",
       "      <td>8</td>\n",
       "      <td>0</td>\n",
       "      <td>847289127.0</td>\n",
       "      <td>0.0</td>\n",
       "      <td>-847289.127</td>\n",
       "    </tr>\n",
       "    <tr>\n",
       "      <th>2</th>\n",
       "      <td>0</td>\n",
       "      <td>2</td>\n",
       "      <td>True</td>\n",
       "      <td>5</td>\n",
       "      <td>3</td>\n",
       "      <td>847289197.0</td>\n",
       "      <td>847291612.0</td>\n",
       "      <td>2.415</td>\n",
       "    </tr>\n",
       "    <tr>\n",
       "      <th>3</th>\n",
       "      <td>0</td>\n",
       "      <td>3</td>\n",
       "      <td>True</td>\n",
       "      <td>6</td>\n",
       "      <td>2</td>\n",
       "      <td>847289122.0</td>\n",
       "      <td>847291266.0</td>\n",
       "      <td>2.144</td>\n",
       "    </tr>\n",
       "    <tr>\n",
       "      <th>4</th>\n",
       "      <td>0</td>\n",
       "      <td>4</td>\n",
       "      <td>True</td>\n",
       "      <td>1</td>\n",
       "      <td>7</td>\n",
       "      <td>847289281.0</td>\n",
       "      <td>847291931.0</td>\n",
       "      <td>2.650</td>\n",
       "    </tr>\n",
       "  </tbody>\n",
       "</table>\n",
       "</div>"
      ],
      "text/plain": [
       "   Event  ID  Side  Layer  Column           R0           R1  Drift_time\n",
       "0      0   0  True      0       7  847289447.0  847291891.0       2.444\n",
       "1      0   1  True      8       0  847289127.0          0.0 -847289.127\n",
       "2      0   2  True      5       3  847289197.0  847291612.0       2.415\n",
       "3      0   3  True      6       2  847289122.0  847291266.0       2.144\n",
       "4      0   4  True      1       7  847289281.0  847291931.0       2.650"
      ]
     },
     "execution_count": 11,
     "metadata": {},
     "output_type": "execute_result"
    }
   ],
   "source": [
    "events_df.head()"
   ]
  },
  {
   "cell_type": "code",
   "execution_count": 12,
   "id": "2cbf7c3c-415d-481f-b18c-baf45bda1af9",
   "metadata": {},
   "outputs": [
    {
     "name": "stderr",
     "output_type": "stream",
     "text": [
      "C:\\Users\\clair\\miniconda3\\envs\\daml\\lib\\site-packages\\ipykernel_launcher.py:5: SettingWithCopyWarning: \n",
      "A value is trying to be set on a copy of a slice from a DataFrame\n",
      "\n",
      "See the caveats in the documentation: https://pandas.pydata.org/pandas-docs/stable/user_guide/indexing.html#returning-a-view-versus-a-copy\n",
      "  \"\"\"\n"
     ]
    }
   ],
   "source": [
    "for i in events_df.index:\n",
    "    if events_df['Drift_time'][i] > 20000:\n",
    "        events_df['Drift_time'][i] = np.nan\n",
    "    elif events_df['Drift_time'][i] < -10:\n",
    "        events_df['Drift_time'][i] = np.nan"
   ]
  },
  {
   "cell_type": "code",
   "execution_count": 13,
   "id": "66712410-ad27-4b24-97ff-62cb96085ec5",
   "metadata": {},
   "outputs": [
    {
     "data": {
      "text/html": [
       "<div>\n",
       "<style scoped>\n",
       "    .dataframe tbody tr th:only-of-type {\n",
       "        vertical-align: middle;\n",
       "    }\n",
       "\n",
       "    .dataframe tbody tr th {\n",
       "        vertical-align: top;\n",
       "    }\n",
       "\n",
       "    .dataframe thead th {\n",
       "        text-align: right;\n",
       "    }\n",
       "</style>\n",
       "<table border=\"1\" class=\"dataframe\">\n",
       "  <thead>\n",
       "    <tr style=\"text-align: right;\">\n",
       "      <th></th>\n",
       "      <th>Event</th>\n",
       "      <th>ID</th>\n",
       "      <th>Side</th>\n",
       "      <th>Layer</th>\n",
       "      <th>Column</th>\n",
       "      <th>R0</th>\n",
       "      <th>R1</th>\n",
       "      <th>Drift_time</th>\n",
       "    </tr>\n",
       "  </thead>\n",
       "  <tbody>\n",
       "    <tr>\n",
       "      <th>0</th>\n",
       "      <td>0</td>\n",
       "      <td>0</td>\n",
       "      <td>True</td>\n",
       "      <td>0</td>\n",
       "      <td>7</td>\n",
       "      <td>847289447.0</td>\n",
       "      <td>847291891.0</td>\n",
       "      <td>2.444</td>\n",
       "    </tr>\n",
       "    <tr>\n",
       "      <th>1</th>\n",
       "      <td>0</td>\n",
       "      <td>1</td>\n",
       "      <td>True</td>\n",
       "      <td>8</td>\n",
       "      <td>0</td>\n",
       "      <td>847289127.0</td>\n",
       "      <td>0.0</td>\n",
       "      <td>NaN</td>\n",
       "    </tr>\n",
       "    <tr>\n",
       "      <th>2</th>\n",
       "      <td>0</td>\n",
       "      <td>2</td>\n",
       "      <td>True</td>\n",
       "      <td>5</td>\n",
       "      <td>3</td>\n",
       "      <td>847289197.0</td>\n",
       "      <td>847291612.0</td>\n",
       "      <td>2.415</td>\n",
       "    </tr>\n",
       "    <tr>\n",
       "      <th>3</th>\n",
       "      <td>0</td>\n",
       "      <td>3</td>\n",
       "      <td>True</td>\n",
       "      <td>6</td>\n",
       "      <td>2</td>\n",
       "      <td>847289122.0</td>\n",
       "      <td>847291266.0</td>\n",
       "      <td>2.144</td>\n",
       "    </tr>\n",
       "    <tr>\n",
       "      <th>4</th>\n",
       "      <td>0</td>\n",
       "      <td>4</td>\n",
       "      <td>True</td>\n",
       "      <td>1</td>\n",
       "      <td>7</td>\n",
       "      <td>847289281.0</td>\n",
       "      <td>847291931.0</td>\n",
       "      <td>2.650</td>\n",
       "    </tr>\n",
       "  </tbody>\n",
       "</table>\n",
       "</div>"
      ],
      "text/plain": [
       "   Event  ID  Side  Layer  Column           R0           R1  Drift_time\n",
       "0      0   0  True      0       7  847289447.0  847291891.0       2.444\n",
       "1      0   1  True      8       0  847289127.0          0.0         NaN\n",
       "2      0   2  True      5       3  847289197.0  847291612.0       2.415\n",
       "3      0   3  True      6       2  847289122.0  847291266.0       2.144\n",
       "4      0   4  True      1       7  847289281.0  847291931.0       2.650"
      ]
     },
     "execution_count": 13,
     "metadata": {},
     "output_type": "execute_result"
    }
   ],
   "source": [
    "events_df.head()"
   ]
  },
  {
   "cell_type": "code",
   "execution_count": 14,
   "id": "a92b9d73-5e47-4f21-ae44-100e80c0332d",
   "metadata": {},
   "outputs": [],
   "source": [
    "import seaborn as sns"
   ]
  },
  {
   "cell_type": "code",
   "execution_count": 15,
   "id": "fe74df65-bedd-4d8c-b723-0861e9998bb1",
   "metadata": {},
   "outputs": [],
   "source": [
    "sns.set_theme()"
   ]
  },
  {
   "cell_type": "code",
   "execution_count": 16,
   "id": "1822a399-26e8-4176-8ef1-f6e7c2889552",
   "metadata": {},
   "outputs": [
    {
     "data": {
      "image/png": "[encoded data removed]",
      "text/plain": [
       "<Figure size 640x480 with 1 Axes>"
      ]
     },
     "metadata": {},
     "output_type": "display_data"
    }
   ],
   "source": [
    "plt.hist(events_df['Drift_time'])\n",
    "plt.title('Time Distribution')\n",
    "plt.xlabel('Drift Time (us)')\n",
    "plt.ylabel('Counts')\n",
    "plt.show()"
   ]
  },
  {
   "cell_type": "code",
   "execution_count": 17,
   "id": "a84bfaf1-5264-4f5a-ba62-ccc4503b1c0d",
   "metadata": {},
   "outputs": [],
   "source": [
    "radii = calc_radius(events_df['Drift_time'])\n",
    "Radius = pd.Series(data=radii, name='Radius')\n",
    "\n",
    "events_df = pd.concat([events_df, Radius], axis=1)"
   ]
  },
  {
   "cell_type": "code",
   "execution_count": 18,
   "id": "152dea26-d633-4e61-b2f4-ecd187a9c79d",
   "metadata": {},
   "outputs": [
    {
     "data": {
      "text/html": [
       "<div>\n",
       "<style scoped>\n",
       "    .dataframe tbody tr th:only-of-type {\n",
       "        vertical-align: middle;\n",
       "    }\n",
       "\n",
       "    .dataframe tbody tr th {\n",
       "        vertical-align: top;\n",
       "    }\n",
       "\n",
       "    .dataframe thead th {\n",
       "        text-align: right;\n",
       "    }\n",
       "</style>\n",
       "<table border=\"1\" class=\"dataframe\">\n",
       "  <thead>\n",
       "    <tr style=\"text-align: right;\">\n",
       "      <th></th>\n",
       "      <th>Event</th>\n",
       "      <th>ID</th>\n",
       "      <th>Side</th>\n",
       "      <th>Layer</th>\n",
       "      <th>Column</th>\n",
       "      <th>R0</th>\n",
       "      <th>R1</th>\n",
       "      <th>Drift_time</th>\n",
       "      <th>Radius</th>\n",
       "    </tr>\n",
       "  </thead>\n",
       "  <tbody>\n",
       "    <tr>\n",
       "      <th>0</th>\n",
       "      <td>0</td>\n",
       "      <td>0</td>\n",
       "      <td>True</td>\n",
       "      <td>0</td>\n",
       "      <td>7</td>\n",
       "      <td>847289447.0</td>\n",
       "      <td>847291891.0</td>\n",
       "      <td>2.444</td>\n",
       "      <td>0.517953</td>\n",
       "    </tr>\n",
       "    <tr>\n",
       "      <th>1</th>\n",
       "      <td>0</td>\n",
       "      <td>1</td>\n",
       "      <td>True</td>\n",
       "      <td>8</td>\n",
       "      <td>0</td>\n",
       "      <td>847289127.0</td>\n",
       "      <td>0.0</td>\n",
       "      <td>NaN</td>\n",
       "      <td>NaN</td>\n",
       "    </tr>\n",
       "    <tr>\n",
       "      <th>2</th>\n",
       "      <td>0</td>\n",
       "      <td>2</td>\n",
       "      <td>True</td>\n",
       "      <td>5</td>\n",
       "      <td>3</td>\n",
       "      <td>847289197.0</td>\n",
       "      <td>847291612.0</td>\n",
       "      <td>2.415</td>\n",
       "      <td>0.514709</td>\n",
       "    </tr>\n",
       "    <tr>\n",
       "      <th>3</th>\n",
       "      <td>0</td>\n",
       "      <td>3</td>\n",
       "      <td>True</td>\n",
       "      <td>6</td>\n",
       "      <td>2</td>\n",
       "      <td>847289122.0</td>\n",
       "      <td>847291266.0</td>\n",
       "      <td>2.144</td>\n",
       "      <td>0.483455</td>\n",
       "    </tr>\n",
       "    <tr>\n",
       "      <th>4</th>\n",
       "      <td>0</td>\n",
       "      <td>4</td>\n",
       "      <td>True</td>\n",
       "      <td>1</td>\n",
       "      <td>7</td>\n",
       "      <td>847289281.0</td>\n",
       "      <td>847291931.0</td>\n",
       "      <td>2.650</td>\n",
       "      <td>0.540490</td>\n",
       "    </tr>\n",
       "  </tbody>\n",
       "</table>\n",
       "</div>"
      ],
      "text/plain": [
       "   Event  ID  Side  Layer  Column           R0           R1  Drift_time  \\\n",
       "0      0   0  True      0       7  847289447.0  847291891.0       2.444   \n",
       "1      0   1  True      8       0  847289127.0          0.0         NaN   \n",
       "2      0   2  True      5       3  847289197.0  847291612.0       2.415   \n",
       "3      0   3  True      6       2  847289122.0  847291266.0       2.144   \n",
       "4      0   4  True      1       7  847289281.0  847291931.0       2.650   \n",
       "\n",
       "     Radius  \n",
       "0  0.517953  \n",
       "1       NaN  \n",
       "2  0.514709  \n",
       "3  0.483455  \n",
       "4  0.540490  "
      ]
     },
     "execution_count": 18,
     "metadata": {},
     "output_type": "execute_result"
    }
   ],
   "source": [
    "events_df.head()"
   ]
  },
  {
   "cell_type": "code",
   "execution_count": 19,
   "id": "9b69cd64-ff8c-4a06-88f3-76a4b08cd0bf",
   "metadata": {},
   "outputs": [
    {
     "data": {
      "image/png": "[encoded data removed]",
      "text/plain": [
       "<Figure size 640x480 with 1 Axes>"
      ]
     },
     "metadata": {},
     "output_type": "display_data"
    }
   ],
   "source": [
    "plt.hist(events_df['Radius'])\n",
    "plt.title('Radius Distribution')\n",
    "plt.xlabel('Radius (cm)')\n",
    "plt.ylabel('Counts')\n",
    "plt.show()"
   ]
  },
  {
   "cell_type": "code",
   "execution_count": 20,
   "id": "ac899b01-2bcd-425b-8c66-c737e03b8896",
   "metadata": {},
   "outputs": [
    {
     "data": {
      "text/plain": [
       "1296"
      ]
     },
     "execution_count": 20,
     "metadata": {},
     "output_type": "execute_result"
    }
   ],
   "source": [
    "len(events_df.index)"
   ]
  }
 ],
 "metadata": {
  "kernelspec": {
   "display_name": "Python 3 (ipykernel)",
   "language": "python",
   "name": "python3"
  },
  "language_info": {
   "codemirror_mode": {
    "name": "ipython",
    "version": 3
   },
   "file_extension": ".py",
   "mimetype": "text/x-python",
   "name": "python",
   "nbconvert_exporter": "python",
   "pygments_lexer": "ipython3",
   "version": "3.7.13"
  }
 },
 "nbformat": 4,
 "nbformat_minor": 5
}
