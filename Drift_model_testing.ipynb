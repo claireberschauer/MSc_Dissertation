{
 "cells": [
  {
   "cell_type": "markdown",
   "id": "b623ba17-6397-47cb-aa6f-64de275b065f",
   "metadata": {},
   "source": [
    "# Drift Model Testing"
   ]
  },
  {
   "cell_type": "markdown",
   "id": "520a85ee-ff27-408c-9f22-1bb8cdb91052",
   "metadata": {},
   "source": [
    "__Intended Process:__\n",
    "\n",
    "- STEP 1: get stuff out of a data file\n",
    "\n",
    "- UDD format data --> generate drift times (t1 - t0) then input into the equation to get drift radii (and uncertainties)\n",
    "- use same data and get simulated radii from existing falaise\n",
    "- plot radii versus each other to see how the models compare\n",
    "- is there \"truth data\" for simulated data? (Ask Cheryl) -- see quantitatively how well Betsy's drift model works to estimate radius, get a quantitative result for how well it works compared to existing falaise\n",
    "\n",
    "Next steps:  \n",
    "- use real data as opposed to simulated\n",
    "- quantify impact of implementing more detailed electric field\n",
    "- track fitting?\n",
    "\n",
    "Barriers to progress: \n",
    "- .brio format? Look at how Betsy got her data\n",
    "    - used .root filed (can use Cheryl's code to convert)\n",
    "- which pressure are we using again?"
   ]
  },
  {
   "cell_type": "code",
   "execution_count": 18,
   "id": "f7b9253d-dff6-4f77-9a9e-9396f0cc8081",
   "metadata": {},
   "outputs": [],
   "source": [
    "import uproot\n",
    "import numpy as np\n",
    "import matplotlib.pyplot as plt\n",
    "import pandas as pd\n",
    "import time as tm"
   ]
  },
  {
   "cell_type": "code",
   "execution_count": 2,
   "id": "5fcfd4d8-3c38-40b0-b312-9bcfd1b6632f",
   "metadata": {},
   "outputs": [],
   "source": [
    "data = uproot.open('snemo_run-840_udd.root')"
   ]
  },
  {
   "cell_type": "code",
   "execution_count": 3,
   "id": "8748bdb6-d40e-40e0-8a65-d1171d5f60ce",
   "metadata": {},
   "outputs": [
    {
     "name": "stdout",
     "output_type": "stream",
     "text": [
      "name                 | typename                 | interpretation                \n",
      "---------------------+--------------------------+-------------------------------\n",
      "header.runnumber     | int32_t                  | AsDtype('>i4')\n",
      "header.eventnumber   | int32_t                  | AsDtype('>i4')\n",
      "header.date          | int32_t                  | AsDtype('>i4')\n",
      "header.runtype       | int32_t                  | AsDtype('>i4')\n",
      "header.simulated     | bool                     | AsDtype('bool')\n",
      "header.real          | bool                     | AsDtype('bool')\n",
      "tracker.nohits       | int32_t                  | AsDtype('>i4')\n",
      "tracker.id           | std::vector<int32_t>     | AsJagged(AsDtype('>i4'), he...\n",
      "tracker.module       | std::vector<int32_t>     | AsJagged(AsDtype('>i4'), he...\n",
      "tracker.side         | std::vector<int32_t>     | AsJagged(AsDtype('>i4'), he...\n",
      "tracker.layer        | std::vector<int32_t>     | AsJagged(AsDtype('>i4'), he...\n",
      "tracker.column       | std::vector<int32_t>     | AsJagged(AsDtype('>i4'), he...\n",
      "tracker.x            | std::vector<double>      | AsJagged(AsDtype('>f8'), he...\n",
      "tracker.y            | std::vector<double>      | AsJagged(AsDtype('>f8'), he...\n",
      "tracker.z            | std::vector<double>      | AsJagged(AsDtype('>f8'), he...\n",
      "tracker.sigmaz       | std::vector<double>      | AsJagged(AsDtype('>f8'), he...\n",
      "tracker.r            | std::vector<double>      | AsJagged(AsDtype('>f8'), he...\n",
      "tracker.sigmar       | std::vector<double>      | AsJagged(AsDtype('>f8'), he...\n",
      "tracker.delayedtime  | std::vector<double>      | AsJagged(AsDtype('>f8'), he...\n",
      "tracker.delayedti... | std::vector<double>      | AsJagged(AsDtype('>f8'), he...\n",
      "tracker.isdelayed    | std::vector<bool>        | AsJagged(AsDtype('bool'), h...\n",
      "tracker.isnoisy      | std::vector<bool>        | AsJagged(AsDtype('bool'), h...\n",
      "tracker.isbottomc... | std::vector<bool>        | AsJagged(AsDtype('bool'), h...\n",
      "tracker.istopcath... | std::vector<bool>        | AsJagged(AsDtype('bool'), h...\n",
      "tracker.truehitid    | std::vector<int32_t>     | AsJagged(AsDtype('>i4'), he...\n",
      "calo.nohits          | int32_t                  | AsDtype('>i4')\n",
      "calo.id              | std::vector<int32_t>     | AsJagged(AsDtype('>i4'), he...\n",
      "calo.module          | std::vector<int32_t>     | AsJagged(AsDtype('>i4'), he...\n",
      "calo.side            | std::vector<int32_t>     | AsJagged(AsDtype('>i4'), he...\n",
      "calo.column          | std::vector<int32_t>     | AsJagged(AsDtype('>i4'), he...\n",
      "calo.row             | std::vector<int32_t>     | AsJagged(AsDtype('>i4'), he...\n",
      "calo.wall            | std::vector<int32_t>     | AsJagged(AsDtype('>i4'), he...\n",
      "calo.time            | std::vector<double>      | AsJagged(AsDtype('>f8'), he...\n",
      "calo.sigmatime       | std::vector<double>      | AsJagged(AsDtype('>f8'), he...\n",
      "calo.energy          | std::vector<double>      | AsJagged(AsDtype('>f8'), he...\n",
      "calo.sigmaenergy     | std::vector<double>      | AsJagged(AsDtype('>f8'), he...\n",
      "calo.type            | std::vector<int32_t>     | AsJagged(AsDtype('>i4'), he...\n",
      "pcdtracker.nohits    | int32_t                  | AsDtype('>i4')\n",
      "pcdtracker.id        | std::vector<int32_t>     | AsJagged(AsDtype('>i4'), he...\n",
      "pcdtracker.module    | std::vector<int32_t>     | AsJagged(AsDtype('>i4'), he...\n",
      "pcdtracker.side      | std::vector<int32_t>     | AsJagged(AsDtype('>i4'), he...\n",
      "pcdtracker.layer     | std::vector<int32_t>     | AsJagged(AsDtype('>i4'), he...\n",
      "pcdtracker.column    | std::vector<int32_t>     | AsJagged(AsDtype('>i4'), he...\n",
      "pcdtracker.refere... | std::vector<double>      | AsJagged(AsDtype('>f8'), he...\n",
      "pcdtracker.anodic... | std::vector<double>      | AsJagged(AsDtype('>f8'), he...\n",
      "pcdtracker.sigmaa... | std::vector<double>      | AsJagged(AsDtype('>f8'), he...\n",
      "pcdtracker.bottom... | std::vector<double>      | AsJagged(AsDtype('>f8'), he...\n",
      "pcdtracker.sigmab... | std::vector<double>      | AsJagged(AsDtype('>f8'), he...\n",
      "pcdtracker.topcat... | std::vector<double>      | AsJagged(AsDtype('>f8'), he...\n",
      "pcdtracker.sigmat... | std::vector<double>      | AsJagged(AsDtype('>f8'), he...\n",
      "pcdtracker.isdelayed | std::vector<bool>        | AsJagged(AsDtype('bool'), h...\n",
      "pcdcalo.nohits       | int32_t                  | AsDtype('>i4')\n",
      "pcdcalo.id           | std::vector<int32_t>     | AsJagged(AsDtype('>i4'), he...\n",
      "pcdcalo.type         | std::vector<int32_t>     | AsJagged(AsDtype('>i4'), he...\n",
      "pcdcalo.module       | std::vector<int32_t>     | AsJagged(AsDtype('>i4'), he...\n",
      "pcdcalo.side         | std::vector<int32_t>     | AsJagged(AsDtype('>i4'), he...\n",
      "pcdcalo.column       | std::vector<int32_t>     | AsJagged(AsDtype('>i4'), he...\n",
      "pcdcalo.row          | std::vector<int32_t>     | AsJagged(AsDtype('>i4'), he...\n",
      "pcdcalo.wall         | std::vector<int32_t>     | AsJagged(AsDtype('>i4'), he...\n",
      "pcdcalo.amplitude    | std::vector<double>      | AsJagged(AsDtype('>f8'), he...\n",
      "pcdcalo.sigma_amp... | std::vector<double>      | AsJagged(AsDtype('>f8'), he...\n",
      "pcdcalo.charge       | std::vector<double>      | AsJagged(AsDtype('>f8'), he...\n",
      "pcdcalo.sigma_charge | std::vector<double>      | AsJagged(AsDtype('>f8'), he...\n",
      "pcdcalo.time         | std::vector<double>      | AsJagged(AsDtype('>f8'), he...\n",
      "pcdcalo.sigma_time   | std::vector<double>      | AsJagged(AsDtype('>f8'), he...\n",
      "pcdcalo.baseline     | std::vector<double>      | AsJagged(AsDtype('>f8'), he...\n",
      "pcdcalo.sigma_bas... | std::vector<double>      | AsJagged(AsDtype('>f8'), he...\n",
      "pcdcalo.rising_time  | std::vector<double>      | AsJagged(AsDtype('>f8'), he...\n",
      "pcdcalo.sigma_ris... | std::vector<double>      | AsJagged(AsDtype('>f8'), he...\n",
      "pcdcalo.falling_time | std::vector<double>      | AsJagged(AsDtype('>f8'), he...\n",
      "pcdcalo.sigma_fal... | std::vector<double>      | AsJagged(AsDtype('>f8'), he...\n",
      "pcdcalo.time_width   | std::vector<double>      | AsJagged(AsDtype('>f8'), he...\n",
      "pcdcalo.sigma_tim... | std::vector<double>      | AsJagged(AsDtype('>f8'), he...\n",
      "digitracker.nohits   | int32_t                  | AsDtype('>i4')\n",
      "digitracker.id       | std::vector<int32_t>     | AsJagged(AsDtype('>i4'), he...\n",
      "digitracker.module   | std::vector<int32_t>     | AsJagged(AsDtype('>i4'), he...\n",
      "digitracker.side     | std::vector<int32_t>     | AsJagged(AsDtype('>i4'), he...\n",
      "digitracker.layer    | std::vector<int32_t>     | AsJagged(AsDtype('>i4'), he...\n",
      "digitracker.column   | std::vector<int32_t>     | AsJagged(AsDtype('>i4'), he...\n",
      "digitracker.anode... | std::vector<std::vect... | AsObjects(AsVector(True, As...\n",
      "digitracker.anode... | std::vector<std::vect... | AsObjects(AsVector(True, As...\n",
      "digitracker.anode... | std::vector<std::vect... | AsObjects(AsVector(True, As...\n",
      "digitracker.anode... | std::vector<std::vect... | AsObjects(AsVector(True, As...\n",
      "digitracker.anode... | std::vector<std::vect... | AsObjects(AsVector(True, As...\n",
      "digitracker.botto... | std::vector<std::vect... | AsObjects(AsVector(True, As...\n",
      "digitracker.topca... | std::vector<std::vect... | AsObjects(AsVector(True, As...\n",
      "digicalo.nohits      | int32_t                  | AsDtype('>i4')\n",
      "digicalo.id          | std::vector<int32_t>     | AsJagged(AsDtype('>i4'), he...\n",
      "digicalo.type        | std::vector<int32_t>     | AsJagged(AsDtype('>i4'), he...\n",
      "digicalo.module      | std::vector<int32_t>     | AsJagged(AsDtype('>i4'), he...\n",
      "digicalo.side        | std::vector<int32_t>     | AsJagged(AsDtype('>i4'), he...\n",
      "digicalo.column      | std::vector<int32_t>     | AsJagged(AsDtype('>i4'), he...\n",
      "digicalo.row         | std::vector<int32_t>     | AsJagged(AsDtype('>i4'), he...\n",
      "digicalo.wall        | std::vector<int32_t>     | AsJagged(AsDtype('>i4'), he...\n",
      "digicalo.timestamp   | std::vector<int64_t>     | AsJagged(AsDtype('>i8'), he...\n",
      "digicalo.lowthres... | std::vector<bool>        | AsJagged(AsDtype('bool'), h...\n",
      "digicalo.highthre... | std::vector<bool>        | AsJagged(AsDtype('bool'), h...\n",
      "digicalo.fcr         | std::vector<uint16_t>    | AsJagged(AsDtype('>u2'), he...\n",
      "digicalo.lttrigge... | std::vector<uint16_t>    | AsJagged(AsDtype('>u2'), he...\n",
      "digicalo.lttimeco... | std::vector<uint32_t>    | AsJagged(AsDtype('>u4'), he...\n",
      "digicalo.waveform    | std::vector<std::vect... | AsObjects(AsVector(True, As...\n",
      "digicalo.baseline    | std::vector<int16_t>     | AsJagged(AsDtype('>i2'), he...\n",
      "digicalo.peakampl... | std::vector<int16_t>     | AsJagged(AsDtype('>i2'), he...\n",
      "digicalo.peakcell    | std::vector<int16_t>     | AsJagged(AsDtype('>i2'), he...\n",
      "digicalo.charge      | std::vector<int32_t>     | AsJagged(AsDtype('>i4'), he...\n",
      "digicalo.rising_cell | std::vector<int32_t>     | AsJagged(AsDtype('>i4'), he...\n",
      "digicalo.falling_... | std::vector<int32_t>     | AsJagged(AsDtype('>i4'), he...\n",
      "truetracker.nohits   | int32_t                  | AsDtype('>i4')\n",
      "truetracker.id       | std::vector<int32_t>     | AsJagged(AsDtype('>i4'), he...\n",
      "truetracker.module   | std::vector<int32_t>     | AsJagged(AsDtype('>i4'), he...\n",
      "truetracker.side     | std::vector<int32_t>     | AsJagged(AsDtype('>i4'), he...\n",
      "truetracker.layer    | std::vector<int32_t>     | AsJagged(AsDtype('>i4'), he...\n",
      "truetracker.column   | std::vector<int32_t>     | AsJagged(AsDtype('>i4'), he...\n",
      "truetracker.time     | std::vector<double>      | AsJagged(AsDtype('>f8'), he...\n",
      "truetracker.xstart   | std::vector<double>      | AsJagged(AsDtype('>f8'), he...\n",
      "truetracker.ystart   | std::vector<double>      | AsJagged(AsDtype('>f8'), he...\n",
      "truetracker.zstart   | std::vector<double>      | AsJagged(AsDtype('>f8'), he...\n",
      "truetracker.xstop    | std::vector<double>      | AsJagged(AsDtype('>f8'), he...\n",
      "truetracker.ystop    | std::vector<double>      | AsJagged(AsDtype('>f8'), he...\n",
      "truetracker.zstop    | std::vector<double>      | AsJagged(AsDtype('>f8'), he...\n",
      "truetracker.trackid  | std::vector<int32_t>     | AsJagged(AsDtype('>i4'), he...\n",
      "truetracker.paren... | std::vector<int32_t>     | AsJagged(AsDtype('>i4'), he...\n",
      "truecalo.nohits      | int32_t                  | AsDtype('>i4')\n",
      "truecalo.id          | std::vector<int32_t>     | AsJagged(AsDtype('>i4'), he...\n",
      "truecalo.type        | std::vector<int32_t>     | AsJagged(AsDtype('>i4'), he...\n",
      "truecalo.x           | std::vector<double>      | AsJagged(AsDtype('>f8'), he...\n",
      "truecalo.y           | std::vector<double>      | AsJagged(AsDtype('>f8'), he...\n",
      "truecalo.z           | std::vector<double>      | AsJagged(AsDtype('>f8'), he...\n",
      "truecalo.time        | std::vector<double>      | AsJagged(AsDtype('>f8'), he...\n",
      "truecalo.energy      | std::vector<double>      | AsJagged(AsDtype('>f8'), he...\n",
      "truecalo.module      | std::vector<int32_t>     | AsJagged(AsDtype('>i4'), he...\n",
      "truecalo.side        | std::vector<int32_t>     | AsJagged(AsDtype('>i4'), he...\n",
      "truecalo.wall        | std::vector<int32_t>     | AsJagged(AsDtype('>i4'), he...\n",
      "truecalo.column      | std::vector<int32_t>     | AsJagged(AsDtype('>i4'), he...\n",
      "truecalo.row         | std::vector<int32_t>     | AsJagged(AsDtype('>i4'), he...\n",
      "truevertex.x         | double                   | AsDtype('>f8')\n",
      "truevertex.y         | double                   | AsDtype('>f8')\n",
      "truevertex.z         | double                   | AsDtype('>f8')\n",
      "truevertex.time      | double                   | AsDtype('>f8')\n",
      "trueparticle.nopa... | int32_t                  | AsDtype('>i4')\n",
      "trueparticle.id      | std::vector<int32_t>     | AsJagged(AsDtype('>i4'), he...\n",
      "trueparticle.type    | std::vector<int32_t>     | AsJagged(AsDtype('>i4'), he...\n",
      "trueparticle.px      | std::vector<double>      | AsJagged(AsDtype('>f8'), he...\n",
      "trueparticle.py      | std::vector<double>      | AsJagged(AsDtype('>f8'), he...\n",
      "trueparticle.pz      | std::vector<double>      | AsJagged(AsDtype('>f8'), he...\n",
      "trueparticle.time    | std::vector<double>      | AsJagged(AsDtype('>f8'), he...\n",
      "trueparticle.kine... | std::vector<double>      | AsJagged(AsDtype('>f8'), he...\n"
     ]
    }
   ],
   "source": [
    "data['SimData;1'].show()"
   ]
  },
  {
   "cell_type": "code",
   "execution_count": 20,
   "id": "038bcfc5-75a5-44b6-8251-9275e835f74a",
   "metadata": {},
   "outputs": [
    {
     "name": "stdout",
     "output_type": "stream",
     "text": [
      "name                 | typename                 | interpretation                \n",
      "---------------------+--------------------------+-------------------------------\n",
      "digitracker.anodetim | std::vector<std::vector< | AsObjects(AsVector(True, AsVec\n"
     ]
    }
   ],
   "source": [
    "data['SimData;1']['digitracker.anodetimestampR0'].show()"
   ]
  },
  {
   "cell_type": "code",
   "execution_count": 9,
   "id": "bb9f34bf-31ed-443e-b6e9-6464effa36da",
   "metadata": {},
   "outputs": [],
   "source": [
    "t0 = data['SimData;1']['digitracker.anodetimestampR0'].array(library='np')\n",
    "t1 = data['SimData;1']['digitracker.anodetimestampR1'].array(library='pd')"
   ]
  },
  {
   "cell_type": "code",
   "execution_count": 62,
   "id": "dcb3c52f-de2e-49bf-9a42-6f5d09e59493",
   "metadata": {},
   "outputs": [
    {
     "name": "stdout",
     "output_type": "stream",
     "text": [
      "10\n",
      "10\n"
     ]
    }
   ],
   "source": [
    "n = 2\n",
    "print(len(t0[n]))\n",
    "print(len(t1[n]))"
   ]
  },
  {
   "cell_type": "code",
   "execution_count": 76,
   "id": "0abc5da1-52d3-45da-ace1-a3cd3f8e550b",
   "metadata": {},
   "outputs": [
    {
     "data": {
      "text/plain": [
       "9590"
      ]
     },
     "execution_count": 76,
     "metadata": {},
     "output_type": "execute_result"
    }
   ],
   "source": [
    "len(t0)"
   ]
  },
  {
   "cell_type": "code",
   "execution_count": 109,
   "id": "6d77c6b7-d0c3-4e8e-b146-5ba88745270c",
   "metadata": {},
   "outputs": [
    {
     "data": {
      "text/plain": [
       "<STLVector [847289127] at 0x026ba5d42a08>"
      ]
     },
     "execution_count": 109,
     "metadata": {},
     "output_type": "execute_result"
    }
   ],
   "source": [
    "t0[0][1]"
   ]
  },
  {
   "cell_type": "code",
   "execution_count": 120,
   "id": "b424d9e3-1d18-45cb-9f85-de47c4c78e81",
   "metadata": {},
   "outputs": [],
   "source": [
    "test_vector_0 = np.array(data['SimData;1']['digitracker.anodetimestampR0'].array()[5])\n",
    "test_vector_1 = np.array(data['SimData;1']['digitracker.anodetimestampR1'].array()[5])"
   ]
  },
  {
   "cell_type": "code",
   "execution_count": 33,
   "id": "6dd54375-a5e4-419a-92b3-94ea56d2db9f",
   "metadata": {},
   "outputs": [
    {
     "data": {
      "text/plain": [
       "array([[847289447],\n",
       "       [847289127],\n",
       "       [847289197],\n",
       "       [847289122],\n",
       "       [847289281],\n",
       "       [847289437],\n",
       "       [847289134],\n",
       "       [847289144],\n",
       "       [847289316],\n",
       "       [847286043],\n",
       "       [847285664]], dtype=int64)"
      ]
     },
     "execution_count": 33,
     "metadata": {},
     "output_type": "execute_result"
    }
   ],
   "source": [
    "np.array(data['SimData;1']['digitracker.anodetimestampR0'].array(library='np')[0])"
   ]
  },
  {
   "cell_type": "code",
   "execution_count": null,
   "id": "6d6eff09-885e-428e-adce-9ba95d032888",
   "metadata": {},
   "outputs": [],
   "source": [
    "ti = tm.time()\n",
    "maxes = []\n",
    "exceptions = []\n",
    "count = 0\n",
    "\n",
    "for n in np.arange(len(t0)):\n",
    "    times = []\n",
    "    try:\n",
    "        test_vector_0 = np.array(data['SimData;1']['digitracker.anodetimestampR0'].array(library='np', dtype='object')[n])\n",
    "        test_vector_1 = np.array(data['SimData;1']['digitracker.anodetimestampR1'].array(library='np', dtype='object')[n])\n",
    "\n",
    "        for i in np.arange(len(test_vector_0)):\n",
    "            time = test_vector_1[i] - test_vector_0[i]\n",
    "            if time > 0:\n",
    "                if time < 10000:\n",
    "                    times.append(time)\n",
    "        maxes.append(max(times))\n",
    "        \n",
    "    except: \n",
    "        exceptions.append(count)\n",
    "    \n",
    "    count += 1\n",
    "    \n",
    "        \n",
    "print(max(maxes))\n",
    "tf = tm.time()\n",
    "print('Runtime:', tf - ti)"
   ]
  },
  {
   "cell_type": "code",
   "execution_count": 20,
   "id": "8403e60c-2da9-4890-afdd-e9ba3d0921ce",
   "metadata": {},
   "outputs": [
    {
     "data": {
      "text/plain": [
       "218"
      ]
     },
     "execution_count": 20,
     "metadata": {},
     "output_type": "execute_result"
    }
   ],
   "source": [
    "len(exceptions)"
   ]
  },
  {
   "cell_type": "code",
   "execution_count": 31,
   "id": "37b05ab3-18dc-40a0-96ad-d434f914c342",
   "metadata": {},
   "outputs": [],
   "source": [
    "layers = data['SimData;1']['digitracker.layer'].array(library='np')"
   ]
  },
  {
   "cell_type": "code",
   "execution_count": 32,
   "id": "6d68bbd8-aaca-4cfa-ae91-51bd3b874d83",
   "metadata": {},
   "outputs": [
    {
     "data": {
      "text/plain": [
       "array([8, 7, 2, 0, 1, 4, 5, 3, 3, 1, 5])"
      ]
     },
     "execution_count": 32,
     "metadata": {},
     "output_type": "execute_result"
    }
   ],
   "source": [
    "layers[3]"
   ]
  },
  {
   "cell_type": "code",
   "execution_count": 8,
   "id": "f1aea9e4-af5e-495b-aea2-e0b1a48fa5a7",
   "metadata": {},
   "outputs": [],
   "source": [
    "# dictionary for a, b values\n",
    "# each cell type has 9 values -- 3 sets of a, b pairs corresponding to 3 pressures (850, 880, 910) and the tx value for \n",
    "# each pressure in the third entry of each tuple\n",
    "\n",
    "# 'entry' : [(a_850, b_850, tx_850), (a_880, b_880, tx_880), (a_910, b_910, tx_910)]\n",
    "ab_vals = {'center_in': [(8.28, -0.9, 2.95), (8.53, -0.9, 2.97), (8.77, -0.9, 3.07)],\n",
    "           'center_out': [(3.86, -1.99, 2.95), (4.19, -1.93, 2.97), (4.55, -1.9, 3.06)]\n",
    "          }"
   ]
  },
  {
   "cell_type": "code",
   "execution_count": 11,
   "id": "20b3826d-5a5d-4e51-b8fc-148787ee4913",
   "metadata": {},
   "outputs": [],
   "source": [
    "# r(t) = (t/a)**(1/(1-b))\n",
    "\n",
    "def define_io(t_drift, tx):\n",
    "    \"\"\" Defines whether the particle is in the inner or outer section of the cell.\n",
    "    param t_drift: The measured drift time (t1 - t0)\n",
    "    type t_drift: float\n",
    "    param tx: The reference value of t\n",
    "    type t_drift: float\n",
    "    \"\"\"\n",
    "    if t_drift > tx:\n",
    "        inner = False\n",
    "    else:\n",
    "        inner = True\n",
    "    return inner\n",
    "\n",
    "def find_params(inner, region, pressure):\n",
    "    \"\"\" Consults the ab_vals dictionary to determine a and b parameter values.\n",
    "    param inner: Defines where the particle is within the cell\n",
    "    type inner: bool\n",
    "    param region: Defines the cell region as 'center', 'edge', or 'corner'\n",
    "    type region: str\n",
    "    param pressure: Defines the pressure within the tracker (850, 880, or 910)\n",
    "    type pressure: float\n",
    "    \"\"\"\n",
    "    cell_type = region\n",
    "    \n",
    "    if inner is True: \n",
    "        cell_type.append('_in')\n",
    "    else:\n",
    "        cell_type.append('_out')\n",
    "        \n",
    "    if pressure is 850:\n",
    "        n = 0\n",
    "    if pressure is 880:\n",
    "        n = 1\n",
    "    if pressure is 910:\n",
    "        n = 2 \n",
    "        \n",
    "    params = ab_vals(cell_type[n])\n",
    "    a = params[0]\n",
    "    b = params[1]\n",
    "    tx = params[2]\n",
    "    \n",
    "    return params\n",
    "\n",
    "# since defining the above function, can remove cell_type and pressure from calc_radius and just reference find_params instead\n",
    "\n",
    "def calc_radius(t_drift, cell_type='center_in', pressure=880):\n",
    "    \"\"\" Calculated the radius of the particle based on drift time and cell conditions.\n",
    "    param t_drift: The measured drift time (t1 - t0)\n",
    "    type t_drift: float\n",
    "    param cell_type: indicates what type of cell the particle is in, references an entry in the ab_vals dictionary\n",
    "    type cell_type: str, kwarg\n",
    "    param pressure: indicates the pressure in the tracking chamber, determines which tuple in the cell type dictionary entry should be used \n",
    "                    to define a and b\n",
    "    type pressure: float, kwarg\n",
    "    \"\"\"\n",
    "    if pressure is 850:\n",
    "        n = 0\n",
    "    if pressure is 880:\n",
    "        n = 1\n",
    "    if pressure is 910:\n",
    "        n = 2\n",
    "    \n",
    "    params = ab_vals(cell_type[n])\n",
    "    a = params[0]\n",
    "    b = params[1]\n",
    "    \n",
    "    rad = (t_drift / a)**(1 / (1 + 0.9))\n",
    "    return rad\n",
    "\n",
    "def calc_uncertainty():"
   ]
  }
 ],
 "metadata": {
  "kernelspec": {
   "display_name": "Python 3 (ipykernel)",
   "language": "python",
   "name": "python3"
  },
  "language_info": {
   "codemirror_mode": {
    "name": "ipython",
    "version": 3
   },
   "file_extension": ".py",
   "mimetype": "text/x-python",
   "name": "python",
   "nbconvert_exporter": "python",
   "pygments_lexer": "ipython3",
   "version": "3.7.13"
  }
 },
 "nbformat": 4,
 "nbformat_minor": 5
}
